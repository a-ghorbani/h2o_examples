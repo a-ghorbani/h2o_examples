{
 "cells": [
  {
   "cell_type": "markdown",
   "metadata": {},
   "source": [
    "## Import the required libraries"
   ]
  },
  {
   "cell_type": "code",
   "execution_count": 2,
   "metadata": {
    "collapsed": false
   },
   "outputs": [],
   "source": [
    "import h2o\n",
    "from h2o.estimators.deeplearning import H2ODeepLearningEstimator, H2OAutoEncoderEstimator\n",
    "\n",
    "import pandas as pd\n",
    "from ggplot import *\n",
    "import getpass\n",
    "import seaborn as sns\n",
    "%matplotlib inline\n",
    "\n",
    "from numpy.random import randn, choice, seed\n",
    "from itertools import product\n",
    "from numpy import sign, ceil, hstack, concatenate\n",
    "seed(1)"
   ]
  },
  {
   "cell_type": "markdown",
   "metadata": {},
   "source": [
    "## Connecting to the H2O cluster (with you own credential)"
   ]
  },
  {
   "cell_type": "code",
   "execution_count": 5,
   "metadata": {
    "collapsed": false
   },
   "outputs": [
    {
     "name": "stdout",
     "output_type": "stream",
     "text": [
      "········\n"
     ]
    },
    {
     "data": {
      "text/html": [
       "<div style=\"overflow:auto\"><table style=\"width:50%\"><tr><td>H2O cluster uptime: </td>\n",
       "<td>17 hours 50 minutes 29 seconds 895 milliseconds </td></tr>\n",
       "<tr><td>H2O cluster version: </td>\n",
       "<td>3.9.1.3458</td></tr>\n",
       "<tr><td>H2O cluster name: </td>\n",
       "<td>AwesomeCloud</td></tr>\n",
       "<tr><td>H2O cluster total nodes: </td>\n",
       "<td>1</td></tr>\n",
       "<tr><td>H2O cluster total free memory: </td>\n",
       "<td>6.84 GB</td></tr>\n",
       "<tr><td>H2O cluster total cores: </td>\n",
       "<td>8</td></tr>\n",
       "<tr><td>H2O cluster allowed cores: </td>\n",
       "<td>2</td></tr>\n",
       "<tr><td>H2O cluster healthy: </td>\n",
       "<td>True</td></tr>\n",
       "<tr><td>H2O Connection ip: </td>\n",
       "<td>127.0.0.1</td></tr>\n",
       "<tr><td>H2O Connection port: </td>\n",
       "<td>54324</td></tr>\n",
       "<tr><td>H2O Connection proxy: </td>\n",
       "<td>None</td></tr>\n",
       "<tr><td>Python Version: </td>\n",
       "<td>2.7.6</td></tr></table></div>"
      ],
      "text/plain": [
       "------------------------------  -----------------------------------------------\n",
       "H2O cluster uptime:             17 hours 50 minutes 29 seconds 895 milliseconds\n",
       "H2O cluster version:            3.9.1.3458\n",
       "H2O cluster name:               AwesomeCloud\n",
       "H2O cluster total nodes:        1\n",
       "H2O cluster total free memory:  6.84 GB\n",
       "H2O cluster total cores:        8\n",
       "H2O cluster allowed cores:      2\n",
       "H2O cluster healthy:            True\n",
       "H2O Connection ip:              127.0.0.1\n",
       "H2O Connection port:            54324\n",
       "H2O Connection proxy:\n",
       "Python Version:                 2.7.6\n",
       "------------------------------  -----------------------------------------------"
      ]
     },
     "metadata": {},
     "output_type": "display_data"
    }
   ],
   "source": [
    "h2o.init(port = 54324,\n",
    "         username = \"aghorbani\", \n",
    "         password = getpass.getpass())"
   ]
  },
  {
   "cell_type": "markdown",
   "metadata": {},
   "source": [
    "## Create synthetic data"
   ]
  },
  {
   "cell_type": "code",
   "execution_count": 6,
   "metadata": {
    "collapsed": false
   },
   "outputs": [],
   "source": [
    "\n",
    "# Generate problem data\n",
    "m, k = 100, 3\n",
    "n1 = 4 # cols of numerical data\n",
    "n2 = 3 # cols of ordinal data\n",
    "n3 = 3 # cols of boolean data\n",
    "n = n1+n2+n3\n",
    "data = randn(m,k).dot(randn(k,n))\n",
    "data_real = data[:,:n1] # numerical data\n",
    "data_ord = data[:,n1:n1+n2] \n",
    "data_ord = data_ord - data_ord.min()\n",
    "data_ord = (data_ord/data_ord.max()*6 + 1).round()# ordinal data, e.g., Likert scale\n",
    "data_bool = sign(data[:,n1+n2:])\n",
    "\n",
    "# Initialize model\n",
    "A = concatenate((data_real, data_ord, data_bool), axis=1)"
   ]
  },
  {
   "cell_type": "markdown",
   "metadata": {},
   "source": [
    "## Load into H2O"
   ]
  },
  {
   "cell_type": "code",
   "execution_count": 7,
   "metadata": {
    "collapsed": false
   },
   "outputs": [
    {
     "name": "stdout",
     "output_type": "stream",
     "text": [
      "\n",
      "Parse Progress: [##################################################] 100%\n"
     ]
    }
   ],
   "source": [
    "A_h2o_frame = h2o.H2OFrame(A)"
   ]
  },
  {
   "cell_type": "markdown",
   "metadata": {},
   "source": [
    "## Train autoencoder"
   ]
  },
  {
   "cell_type": "code",
   "execution_count": 8,
   "metadata": {
    "collapsed": false
   },
   "outputs": [
    {
     "name": "stdout",
     "output_type": "stream",
     "text": [
      "\n",
      "deeplearning Model Build Progress: [##################################################] 100%\n"
     ]
    }
   ],
   "source": [
    "ae_model = H2OAutoEncoderEstimator(\n",
    "    activation            = \"Tanh\", \n",
    "    hidden                = [5, 3, 5], \n",
    "    hidden_dropout_ratios = [0.2,0.2,0.2],\n",
    "    input_dropout_ratio   = 0.2,\n",
    "    epochs                = 10,\n",
    "    model_id              = \"yooHoo_my_awesome_autoencoder\")\n",
    "\n",
    "ae_model.train(x                = A_h2o_frame.columns,\n",
    "               training_frame   = A_h2o_frame)"
   ]
  },
  {
   "cell_type": "markdown",
   "metadata": {},
   "source": [
    "## Score anomality of the data"
   ]
  },
  {
   "cell_type": "code",
   "execution_count": 9,
   "metadata": {
    "collapsed": false
   },
   "outputs": [],
   "source": [
    "anom_df = ae_model.anomaly(A_h2o_frame)"
   ]
  },
  {
   "cell_type": "code",
   "execution_count": 10,
   "metadata": {
    "collapsed": false
   },
   "outputs": [
    {
     "data": {
      "text/plain": [
       "<matplotlib.axes._subplots.AxesSubplot at 0x7f91bd6b3d50>"
      ]
     },
     "execution_count": 10,
     "metadata": {},
     "output_type": "execute_result"
    },
    {
     "data": {
      "image/png": "[encoded data removed]",
      "text/plain": [
       "<matplotlib.figure.Figure at 0x7f91bd653ad0>"
      ]
     },
     "metadata": {},
     "output_type": "display_data"
    }
   ],
   "source": [
    "anom_df.as_data_frame().sort(\"Reconstruction.MSE\").plot(use_index=False)"
   ]
  },
  {
   "cell_type": "code",
   "execution_count": 11,
   "metadata": {
    "collapsed": false
   },
   "outputs": [],
   "source": [
    "df = anom_df.cbind(A_h2o_frame)"
   ]
  },
  {
   "cell_type": "code",
   "execution_count": 12,
   "metadata": {
    "collapsed": false
   },
   "outputs": [
    {
     "data": {
      "text/html": [
       "<table>\n",
       "<tr><th style=\"text-align: right;\">  Reconstruction.MSE</th><th style=\"text-align: right;\">      C1</th><th style=\"text-align: right;\">       C2</th><th style=\"text-align: right;\">       C3</th><th style=\"text-align: right;\">       C4</th><th style=\"text-align: right;\">  C5</th><th style=\"text-align: right;\">  C6</th><th style=\"text-align: right;\">  C7</th><th style=\"text-align: right;\">  C8</th><th style=\"text-align: right;\">  C9</th><th style=\"text-align: right;\">  C10</th></tr>\n",
       "<tr><td style=\"text-align: right;\">            0.105213</td><td style=\"text-align: right;\">-1.96369</td><td style=\"text-align: right;\"> 0.447962</td><td style=\"text-align: right;\">-1.39303 </td><td style=\"text-align: right;\"> 1.35437 </td><td style=\"text-align: right;\">   2</td><td style=\"text-align: right;\">   3</td><td style=\"text-align: right;\">   4</td><td style=\"text-align: right;\">  -1</td><td style=\"text-align: right;\">   1</td><td style=\"text-align: right;\">    1</td></tr>\n",
       "<tr><td style=\"text-align: right;\">            0.15139 </td><td style=\"text-align: right;\"> 3.74789</td><td style=\"text-align: right;\">-2.94335 </td><td style=\"text-align: right;\"> 1.78905 </td><td style=\"text-align: right;\">-3.80711 </td><td style=\"text-align: right;\">   6</td><td style=\"text-align: right;\">   6</td><td style=\"text-align: right;\">   4</td><td style=\"text-align: right;\">   1</td><td style=\"text-align: right;\">  -1</td><td style=\"text-align: right;\">    1</td></tr>\n",
       "<tr><td style=\"text-align: right;\">            0.11685 </td><td style=\"text-align: right;\">-4.4386 </td><td style=\"text-align: right;\"> 2.01582 </td><td style=\"text-align: right;\">-0.988824</td><td style=\"text-align: right;\"> 2.60152 </td><td style=\"text-align: right;\">   2</td><td style=\"text-align: right;\">   2</td><td style=\"text-align: right;\">   4</td><td style=\"text-align: right;\">   1</td><td style=\"text-align: right;\">   1</td><td style=\"text-align: right;\">    1</td></tr>\n",
       "<tr><td style=\"text-align: right;\">            0.197003</td><td style=\"text-align: right;\">-4.50504</td><td style=\"text-align: right;\"> 2.7381  </td><td style=\"text-align: right;\">-1.80608 </td><td style=\"text-align: right;\"> 3.70096 </td><td style=\"text-align: right;\">   1</td><td style=\"text-align: right;\">   2</td><td style=\"text-align: right;\">   4</td><td style=\"text-align: right;\">  -1</td><td style=\"text-align: right;\">   1</td><td style=\"text-align: right;\">    1</td></tr>\n",
       "<tr><td style=\"text-align: right;\">            0.109588</td><td style=\"text-align: right;\">-3.64308</td><td style=\"text-align: right;\"> 4.40846 </td><td style=\"text-align: right;\"> 5.11309 </td><td style=\"text-align: right;\"> 0.875529</td><td style=\"text-align: right;\">   7</td><td style=\"text-align: right;\">   3</td><td style=\"text-align: right;\">   4</td><td style=\"text-align: right;\">   1</td><td style=\"text-align: right;\">  -1</td><td style=\"text-align: right;\">    1</td></tr>\n",
       "</table>"
      ]
     },
     "metadata": {},
     "output_type": "display_data"
    },
    {
     "data": {
      "text/plain": []
     },
     "execution_count": 12,
     "metadata": {},
     "output_type": "execute_result"
    }
   ],
   "source": [
    "df[df[\"Reconstruction.MSE\"] > 0.1]"
   ]
  },
  {
   "cell_type": "markdown",
   "metadata": {},
   "source": [
    "## Retrain the model with the same data"
   ]
  },
  {
   "cell_type": "code",
   "execution_count": 13,
   "metadata": {
    "collapsed": false
   },
   "outputs": [
    {
     "name": "stdout",
     "output_type": "stream",
     "text": [
      "\n",
      "deeplearning Model Build Progress: [##################################################] 100%\n"
     ]
    }
   ],
   "source": [
    "ae_model = H2OAutoEncoderEstimator(\n",
    "    activation            = \"Tanh\", \n",
    "    hidden                = [5, 3, 5], \n",
    "    hidden_dropout_ratios = [0.2,0.2,0.2],\n",
    "    input_dropout_ratio   = 0.2,\n",
    "    epochs                = 1000,\n",
    "    checkpoint            = \"yooHoo_my_awesome_autoencoder\",\n",
    "    model_id              = \"yooHoo_my_awesome_autoencoder\")\n",
    "\n",
    "ae_model.train(x                = A_h2o_frame.columns,\n",
    "               training_frame   = A_h2o_frame)"
   ]
  },
  {
   "cell_type": "code",
   "execution_count": 14,
   "metadata": {
    "collapsed": false
   },
   "outputs": [
    {
     "data": {
      "text/plain": [
       "<matplotlib.axes._subplots.AxesSubplot at 0x7f91bc413250>"
      ]
     },
     "execution_count": 14,
     "metadata": {},
     "output_type": "execute_result"
    },
    {
     "data": {
      "image/png": "[encoded data removed]",
      "text/plain": [
       "<matplotlib.figure.Figure at 0x7f91bc459cd0>"
      ]
     },
     "metadata": {},
     "output_type": "display_data"
    }
   ],
   "source": [
    "anom_df = ae_model.anomaly(A_h2o_frame)\n",
    "anom_df.as_data_frame().sort(\"Reconstruction.MSE\").plot(use_index=False)"
   ]
  },
  {
   "cell_type": "code",
   "execution_count": 15,
   "metadata": {
    "collapsed": false
   },
   "outputs": [
    {
     "data": {
      "text/html": [
       "<table>\n",
       "<tr></tr>\n",
       "</table>"
      ]
     },
     "metadata": {},
     "output_type": "display_data"
    },
    {
     "data": {
      "text/plain": []
     },
     "execution_count": 15,
     "metadata": {},
     "output_type": "execute_result"
    }
   ],
   "source": [
    "df = anom_df.cbind(A_h2o_frame)\n",
    "df[df[\"Reconstruction.MSE\"] > 0.1]"
   ]
  },
  {
   "cell_type": "markdown",
   "metadata": {},
   "source": [
    "## Deep Features"
   ]
  },
  {
   "cell_type": "code",
   "execution_count": 16,
   "metadata": {
    "collapsed": false
   },
   "outputs": [
    {
     "name": "stdout",
     "output_type": "stream",
     "text": [
      "\n",
      "deepfeatures Progress: [##################################################] 100%\n"
     ]
    },
    {
     "data": {
      "text/html": [
       "<table>\n",
       "<tr><th style=\"text-align: right;\">  DF.L2.C1</th><th style=\"text-align: right;\">   DF.L2.C2</th><th style=\"text-align: right;\">  DF.L2.C3</th></tr>\n",
       "<tr><td style=\"text-align: right;\"> -0.93484 </td><td style=\"text-align: right;\"> 0.234327  </td><td style=\"text-align: right;\">  0.894217</td></tr>\n",
       "<tr><td style=\"text-align: right;\"> -0.726878</td><td style=\"text-align: right;\">-0.516721  </td><td style=\"text-align: right;\"> -0.780295</td></tr>\n",
       "<tr><td style=\"text-align: right;\"> -0.925123</td><td style=\"text-align: right;\"> 0.332231  </td><td style=\"text-align: right;\">  0.902505</td></tr>\n",
       "<tr><td style=\"text-align: right;\"> -0.742615</td><td style=\"text-align: right;\">-0.382698  </td><td style=\"text-align: right;\"> -0.774972</td></tr>\n",
       "<tr><td style=\"text-align: right;\">  0.962838</td><td style=\"text-align: right;\"> 0.235068  </td><td style=\"text-align: right;\"> -0.4193  </td></tr>\n",
       "<tr><td style=\"text-align: right;\"> -0.660529</td><td style=\"text-align: right;\">-0.532455  </td><td style=\"text-align: right;\"> -0.549475</td></tr>\n",
       "<tr><td style=\"text-align: right;\"> -0.725447</td><td style=\"text-align: right;\">-0.211581  </td><td style=\"text-align: right;\"> -0.439874</td></tr>\n",
       "<tr><td style=\"text-align: right;\"> -0.701872</td><td style=\"text-align: right;\"> 0.41007   </td><td style=\"text-align: right;\"> -0.387577</td></tr>\n",
       "<tr><td style=\"text-align: right;\"> -0.916047</td><td style=\"text-align: right;\">-0.00069618</td><td style=\"text-align: right;\">  0.851144</td></tr>\n",
       "<tr><td style=\"text-align: right;\">  0.902972</td><td style=\"text-align: right;\">-0.230462  </td><td style=\"text-align: right;\"> -0.610656</td></tr>\n",
       "</table>"
      ]
     },
     "metadata": {},
     "output_type": "display_data"
    },
    {
     "data": {
      "text/plain": []
     },
     "execution_count": 16,
     "metadata": {},
     "output_type": "execute_result"
    }
   ],
   "source": [
    "ae_model.deepfeatures(A_h2o_frame,1)"
   ]
  },
  {
   "cell_type": "code",
   "execution_count": null,
   "metadata": {
    "collapsed": true
   },
   "outputs": [],
   "source": []
  }
 ],
 "metadata": {
  "kernelspec": {
   "display_name": "Python 2",
   "language": "python",
   "name": "python2"
  },
  "language_info": {
   "codemirror_mode": {
    "name": "ipython",
    "version": 2
   },
   "file_extension": ".py",
   "mimetype": "text/x-python",
   "name": "python",
   "nbconvert_exporter": "python",
   "pygments_lexer": "ipython2",
   "version": "2.7.6"
  }
 },
 "nbformat": 4,
 "nbformat_minor": 0
}
