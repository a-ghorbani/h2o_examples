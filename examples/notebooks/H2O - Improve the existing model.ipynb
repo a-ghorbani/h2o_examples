{
 "cells": [
  {
   "cell_type": "markdown",
   "metadata": {},
   "source": [
    "# I improve, therefore I am.\n",
    "\n",
    "Oh the *dude* got new data!\n",
    "* **first reaction**:  yoohoo I have more data ....\n",
    "* **after some seconds**: OOHHH shit I've spend days to build my previous model with the previous data. I don't start building the model from scratch!!! girrrrrr\n",
    "\n",
    ".\n",
    ".\n",
    ".\n",
    "\n",
    "Asghar: what's up dude ... you look like (biiib) \n",
    "\n",
    "Dude: lablab lab lab lab\n",
    "\n",
    "Asghar: Do you know about *H2O checkpoints* ? It is labl lab lab lablab ... ¯\\\\(ツ)/¯ \n",
    "\n",
    "Dude: **\\m/**"
   ]
  },
  {
   "cell_type": "markdown",
   "metadata": {},
   "source": [
    "## Import the required libraries\n"
   ]
  },
  {
   "cell_type": "code",
   "execution_count": 2,
   "metadata": {
    "collapsed": false,
    "run_control": {
     "read_only": false
    }
   },
   "outputs": [],
   "source": [
    "import h2o\n",
    "from h2o.estimators.deeplearning import H2ODeepLearningEstimator\n",
    "\n",
    "import pandas as pd\n",
    "from ggplot import *\n",
    "import getpass\n",
    "%matplotlib inline\n",
    "import seaborn as sns"
   ]
  },
  {
   "cell_type": "markdown",
   "metadata": {},
   "source": [
    "## Connecting to the H2O cluster (with you own credential)"
   ]
  },
  {
   "cell_type": "code",
   "execution_count": 3,
   "metadata": {
    "collapsed": false,
    "run_control": {
     "read_only": false
    }
   },
   "outputs": [
    {
     "name": "stdout",
     "output_type": "stream",
     "text": [
      "········\n"
     ]
    },
    {
     "name": "stderr",
     "output_type": "stream",
     "text": [
      "/home/ubuntu/.local/lib/python2.7/site-packages/IPython/core/formatters.py:92: DeprecationWarning: DisplayFormatter._ipython_display_formatter_default is deprecated: use @default decorator instead.\n",
      "  def _ipython_display_formatter_default(self):\n",
      "/home/ubuntu/.local/lib/python2.7/site-packages/IPython/core/formatters.py:669: DeprecationWarning: PlainTextFormatter._singleton_printers_default is deprecated: use @default decorator instead.\n",
      "  def _singleton_printers_default(self):\n"
     ]
    },
    {
     "data": {
      "text/html": [
       "<div style=\"overflow:auto\"><table style=\"width:50%\"><tr><td>H2O cluster uptime: </td>\n",
       "<td>2 hours 2 minutes 55 seconds 628 milliseconds </td></tr>\n",
       "<tr><td>H2O cluster version: </td>\n",
       "<td>3.9.1.3458</td></tr>\n",
       "<tr><td>H2O cluster name: </td>\n",
       "<td>AwesomeCloud</td></tr>\n",
       "<tr><td>H2O cluster total nodes: </td>\n",
       "<td>1</td></tr>\n",
       "<tr><td>H2O cluster total free memory: </td>\n",
       "<td>6.96 GB</td></tr>\n",
       "<tr><td>H2O cluster total cores: </td>\n",
       "<td>8</td></tr>\n",
       "<tr><td>H2O cluster allowed cores: </td>\n",
       "<td>2</td></tr>\n",
       "<tr><td>H2O cluster healthy: </td>\n",
       "<td>True</td></tr>\n",
       "<tr><td>H2O Connection ip: </td>\n",
       "<td>127.0.0.1</td></tr>\n",
       "<tr><td>H2O Connection port: </td>\n",
       "<td>54324</td></tr>\n",
       "<tr><td>H2O Connection proxy: </td>\n",
       "<td>None</td></tr>\n",
       "<tr><td>Python Version: </td>\n",
       "<td>2.7.6</td></tr></table></div>"
      ],
      "text/plain": [
       "------------------------------  ---------------------------------------------\n",
       "H2O cluster uptime:             2 hours 2 minutes 55 seconds 628 milliseconds\n",
       "H2O cluster version:            3.9.1.3458\n",
       "H2O cluster name:               AwesomeCloud\n",
       "H2O cluster total nodes:        1\n",
       "H2O cluster total free memory:  6.96 GB\n",
       "H2O cluster total cores:        8\n",
       "H2O cluster allowed cores:      2\n",
       "H2O cluster healthy:            True\n",
       "H2O Connection ip:              127.0.0.1\n",
       "H2O Connection port:            54324\n",
       "H2O Connection proxy:\n",
       "Python Version:                 2.7.6\n",
       "------------------------------  ---------------------------------------------"
      ]
     },
     "metadata": {},
     "output_type": "display_data"
    }
   ],
   "source": [
    "\n",
    "h2o.init(port = 54324,\n",
    "         username = \"aghorbani\", \n",
    "         password = getpass.getpass())"
   ]
  },
  {
   "cell_type": "code",
   "execution_count": 4,
   "metadata": {
    "collapsed": true,
    "run_control": {
     "read_only": false
    }
   },
   "outputs": [],
   "source": [
    "dl = h2o.get_model(\"yooHoo_my_awesome_dl\")"
   ]
  },
  {
   "cell_type": "code",
   "execution_count": 5,
   "metadata": {
    "collapsed": false,
    "run_control": {
     "read_only": false
    }
   },
   "outputs": [
    {
     "name": "stdout",
     "output_type": "stream",
     "text": [
      "\n",
      "Parse Progress: [##################################################] 100%\n"
     ]
    }
   ],
   "source": [
    "data_frame2 = h2o.upload_file(\"../data/attrition.csv\", \n",
    "                              col_types = ([\"numeric\"]*8 + [\"enum\"]), \n",
    "                              destination_frame = \"data_frame2\")"
   ]
  },
  {
   "cell_type": "code",
   "execution_count": 6,
   "metadata": {
    "collapsed": false,
    "run_control": {
     "read_only": false
    }
   },
   "outputs": [
    {
     "name": "stdout",
     "output_type": "stream",
     "text": [
      "Rows:160 Cols:9\n",
      "\n",
      "Chunk compression summary: \n"
     ]
    },
    {
     "data": {
      "text/html": [
       "<div style=\"overflow:auto\"><table style=\"width:50%\"><tr><td><b>chunk_type</b></td>\n",
       "<td><b>chunk_name</b></td>\n",
       "<td><b>count</b></td>\n",
       "<td><b>count_percentage</b></td>\n",
       "<td><b>size</b></td>\n",
       "<td><b>size_percentage</b></td></tr>\n",
       "<tr><td>CBS</td>\n",
       "<td>Bits</td>\n",
       "<td>3</td>\n",
       "<td>33.333336</td>\n",
       "<td>    270  B</td>\n",
       "<td>12.747875</td></tr>\n",
       "<tr><td>C1N</td>\n",
       "<td>1-Byte Integers (w/o NAs)</td>\n",
       "<td>5</td>\n",
       "<td>55.555557</td>\n",
       "<td>    1.1 KB</td>\n",
       "<td>53.824364</td></tr>\n",
       "<tr><td>C4</td>\n",
       "<td>4-Byte Integers</td>\n",
       "<td>1</td>\n",
       "<td>11.111112</td>\n",
       "<td>    708  B</td>\n",
       "<td>33.42776</td></tr></table></div>"
      ],
      "text/plain": [
       "chunk_type    chunk_name                 count    count_percentage    size    size_percentage\n",
       "------------  -------------------------  -------  ------------------  ------  -----------------\n",
       "CBS           Bits                       3        33.3333             270  B  12.7479\n",
       "C1N           1-Byte Integers (w/o NAs)  5        55.5556             1.1 KB  53.8244\n",
       "C4            4-Byte Integers            1        11.1111             708  B  33.4278"
      ]
     },
     "metadata": {},
     "output_type": "display_data"
    },
    {
     "name": "stdout",
     "output_type": "stream",
     "text": [
      "\n",
      "Frame distribution summary: \n"
     ]
    },
    {
     "data": {
      "text/html": [
       "<div style=\"overflow:auto\"><table style=\"width:50%\"><tr><td><b></b></td>\n",
       "<td><b>size</b></td>\n",
       "<td><b>number_of_rows</b></td>\n",
       "<td><b>number_of_chunks_per_column</b></td>\n",
       "<td><b>number_of_chunks</b></td></tr>\n",
       "<tr><td>172.31.16.145:54324</td>\n",
       "<td>    2.1 KB</td>\n",
       "<td>160.0</td>\n",
       "<td>1.0</td>\n",
       "<td>9.0</td></tr>\n",
       "<tr><td>mean</td>\n",
       "<td>    2.1 KB</td>\n",
       "<td>160.0</td>\n",
       "<td>1.0</td>\n",
       "<td>9.0</td></tr>\n",
       "<tr><td>min</td>\n",
       "<td>    2.1 KB</td>\n",
       "<td>160.0</td>\n",
       "<td>1.0</td>\n",
       "<td>9.0</td></tr>\n",
       "<tr><td>max</td>\n",
       "<td>    2.1 KB</td>\n",
       "<td>160.0</td>\n",
       "<td>1.0</td>\n",
       "<td>9.0</td></tr>\n",
       "<tr><td>stddev</td>\n",
       "<td>      0  B</td>\n",
       "<td>0.0</td>\n",
       "<td>0.0</td>\n",
       "<td>0.0</td></tr>\n",
       "<tr><td>total</td>\n",
       "<td>    2.1 KB</td>\n",
       "<td>160.0</td>\n",
       "<td>1.0</td>\n",
       "<td>9.0</td></tr></table></div>"
      ],
      "text/plain": [
       "                     size    number_of_rows    number_of_chunks_per_column    number_of_chunks\n",
       "-------------------  ------  ----------------  -----------------------------  ------------------\n",
       "172.31.16.145:54324  2.1 KB  160               1                              9\n",
       "mean                 2.1 KB  160               1                              9\n",
       "min                  2.1 KB  160               1                              9\n",
       "max                  2.1 KB  160               1                              9\n",
       "stddev               0  B    0                 0                              0\n",
       "total                2.1 KB  160               1                              9"
      ]
     },
     "metadata": {},
     "output_type": "display_data"
    },
    {
     "name": "stdout",
     "output_type": "stream",
     "text": [
      "\n",
      "\n"
     ]
    },
    {
     "data": {
      "text/html": [
       "<table>\n",
       "<tr><th>       </th><th>CustID       </th><th>Gender        </th><th>Age          </th><th>Income        </th><th>FamilySize   </th><th>Education    </th><th>Calls        </th><th>Visits       </th><th>Churn         </th></tr>\n",
       "<tr><td>type   </td><td>int          </td><td>int           </td><td>int          </td><td>int           </td><td>int          </td><td>int          </td><td>int          </td><td>int          </td><td>enum          </td></tr>\n",
       "<tr><td>mins   </td><td>101901.0     </td><td>0.0           </td><td>17.0         </td><td>0.0           </td><td>1.0          </td><td>12.0         </td><td>3.0          </td><td>0.0          </td><td>0.0           </td></tr>\n",
       "<tr><td>mean   </td><td>151143.5     </td><td>0.58125       </td><td>35.66875     </td><td>0.50625       </td><td>3.13125      </td><td>14.9625      </td><td>25.21875     </td><td>1.90625      </td><td>0.53125       </td></tr>\n",
       "<tr><td>maxs   </td><td>199131.0     </td><td>1.0           </td><td>82.0         </td><td>1.0           </td><td>5.0          </td><td>20.0         </td><td>65.0         </td><td>5.0          </td><td>1.0           </td></tr>\n",
       "<tr><td>sigma  </td><td>28408.9141624</td><td>0.494903268612</td><td>16.3359856177</td><td>0.501530675899</td><td>1.04081411652</td><td>2.60113062016</td><td>13.3098875031</td><td>1.46573816379</td><td>0.500589275396</td></tr>\n",
       "<tr><td>zeros  </td><td>0            </td><td>67            </td><td>0            </td><td>79            </td><td>0            </td><td>0            </td><td>0            </td><td>31           </td><td>75            </td></tr>\n",
       "<tr><td>missing</td><td>0            </td><td>0             </td><td>0            </td><td>0             </td><td>0            </td><td>0            </td><td>0            </td><td>0            </td><td>0             </td></tr>\n",
       "<tr><td>0      </td><td>101901.0     </td><td>1.0           </td><td>30.0         </td><td>0.0           </td><td>5.0          </td><td>20.0         </td><td>37.0         </td><td>3.0          </td><td>1             </td></tr>\n",
       "<tr><td>1      </td><td>102056.0     </td><td>0.0           </td><td>17.0         </td><td>1.0           </td><td>1.0          </td><td>12.0         </td><td>25.0         </td><td>1.0          </td><td>0             </td></tr>\n",
       "<tr><td>2      </td><td>102522.0     </td><td>1.0           </td><td>54.0         </td><td>1.0           </td><td>4.0          </td><td>18.0         </td><td>48.0         </td><td>3.0          </td><td>1             </td></tr>\n",
       "<tr><td>3      </td><td>103149.0     </td><td>1.0           </td><td>42.0         </td><td>1.0           </td><td>2.0          </td><td>17.0         </td><td>51.0         </td><td>2.0          </td><td>1             </td></tr>\n",
       "<tr><td>4      </td><td>103866.0     </td><td>0.0           </td><td>30.0         </td><td>1.0           </td><td>2.0          </td><td>12.0         </td><td>26.0         </td><td>1.0          </td><td>0             </td></tr>\n",
       "<tr><td>5      </td><td>103976.0     </td><td>0.0           </td><td>23.0         </td><td>0.0           </td><td>4.0          </td><td>16.0         </td><td>18.0         </td><td>0.0          </td><td>0             </td></tr>\n",
       "<tr><td>6      </td><td>103991.0     </td><td>1.0           </td><td>28.0         </td><td>1.0           </td><td>2.0          </td><td>18.0         </td><td>29.0         </td><td>2.0          </td><td>1             </td></tr>\n",
       "<tr><td>7      </td><td>104113.0     </td><td>1.0           </td><td>19.0         </td><td>1.0           </td><td>5.0          </td><td>16.0         </td><td>28.0         </td><td>1.0          </td><td>1             </td></tr>\n",
       "<tr><td>8      </td><td>107168.0     </td><td>0.0           </td><td>48.0         </td><td>0.0           </td><td>4.0          </td><td>15.0         </td><td>16.0         </td><td>3.0          </td><td>1             </td></tr>\n",
       "<tr><td>9      </td><td>107585.0     </td><td>1.0           </td><td>40.0         </td><td>1.0           </td><td>5.0          </td><td>16.0         </td><td>31.0         </td><td>3.0          </td><td>1             </td></tr>\n",
       "</table>"
      ]
     },
     "metadata": {},
     "output_type": "display_data"
    }
   ],
   "source": [
    "data_frame2.describe()"
   ]
  },
  {
   "cell_type": "markdown",
   "metadata": {},
   "source": [
    "## Build new model"
   ]
  },
  {
   "cell_type": "code",
   "execution_count": 7,
   "metadata": {
    "collapsed": false,
    "run_control": {
     "read_only": false
    }
   },
   "outputs": [
    {
     "name": "stdout",
     "output_type": "stream",
     "text": [
      "\n",
      "deeplearning Model Build Progress: [##################################################] 100%\n"
     ]
    }
   ],
   "source": [
    "my_new_dl = H2ODeepLearningEstimator(\n",
    "    activation            = \"TanhWithDropout\",\n",
    "    epochs                = 1200,\n",
    "    input_dropout_ratio   = 0.2,\n",
    "    hidden                = [10,10], \n",
    "    hidden_dropout_ratios = [0.2,0.2],\n",
    "    score_interval        = 0.0001,\n",
    "    checkpoint      = \"yooHoo_my_awesome_dl\",\n",
    "    model_id        = \"yooHoo_my_awesome_dl_continued\")\n",
    "\n",
    "my_new_dl.train(x = list(range(1,8)),\n",
    "                y = 8,\n",
    "                training_frame   = data_frame2,\n",
    "                validation_frame = \"valid_frame\")"
   ]
  },
  {
   "cell_type": "code",
   "execution_count": 16,
   "metadata": {
    "collapsed": false
   },
   "outputs": [
    {
     "data": {
      "text/plain": [
       "<matplotlib.axes._subplots.AxesSubplot at 0x7febc4bca710>"
      ]
     },
     "execution_count": 16,
     "metadata": {},
     "output_type": "execute_result"
    },
    {
     "data": {
      "image/png": "[encoded data removed]",
      "text/plain": [
       "<matplotlib.figure.Figure at 0x7febc5342210>"
      ]
     },
     "metadata": {},
     "output_type": "display_data"
    }
   ],
   "source": [
    "dat = my_new_dl.scoring_history().sort_values(by=\"epochs\")\n",
    "dat.plot(x = \"epochs\", y = [\"training_MSE\",\"validation_MSE\"], ylim=[0,.4], marker='o')"
   ]
  },
  {
   "cell_type": "code",
   "execution_count": null,
   "metadata": {
    "collapsed": true
   },
   "outputs": [],
   "source": []
  }
 ],
 "metadata": {
  "kernelspec": {
   "display_name": "Python 2",
   "language": "python",
   "name": "python2"
  },
  "language_info": {
   "codemirror_mode": {
    "name": "ipython",
    "version": 2
   },
   "file_extension": ".py",
   "mimetype": "text/x-python",
   "name": "python",
   "nbconvert_exporter": "python",
   "pygments_lexer": "ipython2",
   "version": "2.7.6"
  }
 },
 "nbformat": 4,
 "nbformat_minor": 0
}
