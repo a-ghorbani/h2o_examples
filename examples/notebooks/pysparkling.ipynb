{
 "cells": [
  {
   "cell_type": "markdown",
   "metadata": {},
   "source": [
    "## Import the required libraries and initialize H2OContext"
   ]
  },
  {
   "cell_type": "code",
   "execution_count": 2,
   "metadata": {
    "collapsed": false
   },
   "outputs": [],
   "source": [
    "from pysparkling import *\n",
    "import h2o\n",
    "import seaborn as sns\n",
    "%matplotlib inline\n"
   ]
  },
  {
   "cell_type": "code",
   "execution_count": 3,
   "metadata": {
    "collapsed": false
   },
   "outputs": [
    {
     "data": {
      "text/html": [
       "<div style=\"overflow:auto\"><table style=\"width:50%\"><tr><td>H2O cluster uptime: </td>\n",
       "<td>4 seconds 800 milliseconds </td></tr>\n",
       "<tr><td>H2O cluster version: </td>\n",
       "<td>3.8.2.3</td></tr>\n",
       "<tr><td>H2O cluster name: </td>\n",
       "<td>sparkling-water-ubuntu_-1422497723</td></tr>\n",
       "<tr><td>H2O cluster total nodes: </td>\n",
       "<td>1</td></tr>\n",
       "<tr><td>H2O cluster total free memory: </td>\n",
       "<td>982.0 MB</td></tr>\n",
       "<tr><td>H2O cluster total cores: </td>\n",
       "<td>8</td></tr>\n",
       "<tr><td>H2O cluster allowed cores: </td>\n",
       "<td>8</td></tr>\n",
       "<tr><td>H2O cluster healthy: </td>\n",
       "<td>True</td></tr>\n",
       "<tr><td>H2O Connection ip: </td>\n",
       "<td>127.0.0.1</td></tr>\n",
       "<tr><td>H2O Connection port: </td>\n",
       "<td>54327</td></tr>\n",
       "<tr><td>H2O Connection proxy: </td>\n",
       "<td>None</td></tr>\n",
       "<tr><td>Python Version: </td>\n",
       "<td>2.7.6</td></tr></table></div>"
      ],
      "text/plain": [
       "------------------------------  ----------------------------------\n",
       "H2O cluster uptime:             4 seconds 800 milliseconds\n",
       "H2O cluster version:            3.8.2.3\n",
       "H2O cluster name:               sparkling-water-ubuntu_-1422497723\n",
       "H2O cluster total nodes:        1\n",
       "H2O cluster total free memory:  982.0 MB\n",
       "H2O cluster total cores:        8\n",
       "H2O cluster allowed cores:      8\n",
       "H2O cluster healthy:            True\n",
       "H2O Connection ip:              127.0.0.1\n",
       "H2O Connection port:            54327\n",
       "H2O Connection proxy:\n",
       "Python Version:                 2.7.6\n",
       "------------------------------  ----------------------------------"
      ]
     },
     "metadata": {},
     "output_type": "display_data"
    }
   ],
   "source": [
    "hc = H2OContext(sc).start()\n"
   ]
  },
  {
   "cell_type": "markdown",
   "metadata": {},
   "source": [
    "## H2O Context info"
   ]
  },
  {
   "cell_type": "code",
   "execution_count": 4,
   "metadata": {
    "collapsed": false
   },
   "outputs": [
    {
     "name": "stdout",
     "output_type": "stream",
     "text": [
      "H2OContext: ip=127.0.0.1, port=54327 (open UI at http://127.0.0.1:54327 )\n"
     ]
    },
    {
     "data": {
      "text/plain": []
     },
     "execution_count": 4,
     "metadata": {},
     "output_type": "execute_result"
    }
   ],
   "source": [
    "hc"
   ]
  },
  {
   "cell_type": "markdown",
   "metadata": {},
   "source": [
    "## Import data into H2O"
   ]
  },
  {
   "cell_type": "code",
   "execution_count": 5,
   "metadata": {
    "collapsed": false
   },
   "outputs": [
    {
     "name": "stdout",
     "output_type": "stream",
     "text": [
      "\n",
      "Parse Progress: [##################################################] 100%\n"
     ]
    }
   ],
   "source": [
    "attrition = h2o.import_file(path =\"../data/attrition.csv\",\n",
    "                            col_types = ([\"numeric\"]*8 + [\"enum\"]), \n",
    "                            destination_frame= \"attrition\")"
   ]
  },
  {
   "cell_type": "code",
   "execution_count": 6,
   "metadata": {
    "collapsed": false
   },
   "outputs": [
    {
     "name": "stdout",
     "output_type": "stream",
     "text": [
      "(160, 9)\n"
     ]
    },
    {
     "data": {
      "text/html": [
       "<table>\n",
       "<tr><th>       </th><th>CustID       </th><th>Gender        </th><th>Age          </th><th>Income        </th><th>FamilySize   </th><th>Education    </th><th>Calls        </th><th>Visits       </th><th>Churn         </th></tr>\n",
       "<tr><td>type   </td><td>int          </td><td>int           </td><td>int          </td><td>int           </td><td>int          </td><td>int          </td><td>int          </td><td>int          </td><td>enum          </td></tr>\n",
       "<tr><td>mins   </td><td>101901.0     </td><td>0.0           </td><td>17.0         </td><td>0.0           </td><td>1.0          </td><td>12.0         </td><td>3.0          </td><td>0.0          </td><td>0.0           </td></tr>\n",
       "<tr><td>mean   </td><td>151143.5     </td><td>0.58125       </td><td>35.66875     </td><td>0.50625       </td><td>3.13125      </td><td>14.9625      </td><td>25.21875     </td><td>1.90625      </td><td>0.53125       </td></tr>\n",
       "<tr><td>maxs   </td><td>199131.0     </td><td>1.0           </td><td>82.0         </td><td>1.0           </td><td>5.0          </td><td>20.0         </td><td>65.0         </td><td>5.0          </td><td>1.0           </td></tr>\n",
       "<tr><td>sigma  </td><td>28408.9141624</td><td>0.494903268612</td><td>16.3359856177</td><td>0.501530675899</td><td>1.04081411652</td><td>2.60113062016</td><td>13.3098875031</td><td>1.46573816379</td><td>0.500589275396</td></tr>\n",
       "<tr><td>zeros  </td><td>0            </td><td>67            </td><td>0            </td><td>79            </td><td>0            </td><td>0            </td><td>0            </td><td>31           </td><td>75            </td></tr>\n",
       "<tr><td>missing</td><td>0            </td><td>0             </td><td>0            </td><td>0             </td><td>0            </td><td>0            </td><td>0            </td><td>0            </td><td>0             </td></tr>\n",
       "<tr><td>0      </td><td>101901.0     </td><td>1.0           </td><td>30.0         </td><td>0.0           </td><td>5.0          </td><td>20.0         </td><td>37.0         </td><td>3.0          </td><td>1             </td></tr>\n",
       "<tr><td>1      </td><td>102056.0     </td><td>0.0           </td><td>17.0         </td><td>1.0           </td><td>1.0          </td><td>12.0         </td><td>25.0         </td><td>1.0          </td><td>0             </td></tr>\n",
       "<tr><td>2      </td><td>102522.0     </td><td>1.0           </td><td>54.0         </td><td>1.0           </td><td>4.0          </td><td>18.0         </td><td>48.0         </td><td>3.0          </td><td>1             </td></tr>\n",
       "<tr><td>3      </td><td>103149.0     </td><td>1.0           </td><td>42.0         </td><td>1.0           </td><td>2.0          </td><td>17.0         </td><td>51.0         </td><td>2.0          </td><td>1             </td></tr>\n",
       "<tr><td>4      </td><td>103866.0     </td><td>0.0           </td><td>30.0         </td><td>1.0           </td><td>2.0          </td><td>12.0         </td><td>26.0         </td><td>1.0          </td><td>0             </td></tr>\n",
       "<tr><td>5      </td><td>103976.0     </td><td>0.0           </td><td>23.0         </td><td>0.0           </td><td>4.0          </td><td>16.0         </td><td>18.0         </td><td>0.0          </td><td>0             </td></tr>\n",
       "<tr><td>6      </td><td>103991.0     </td><td>1.0           </td><td>28.0         </td><td>1.0           </td><td>2.0          </td><td>18.0         </td><td>29.0         </td><td>2.0          </td><td>1             </td></tr>\n",
       "<tr><td>7      </td><td>104113.0     </td><td>1.0           </td><td>19.0         </td><td>1.0           </td><td>5.0          </td><td>16.0         </td><td>28.0         </td><td>1.0          </td><td>1             </td></tr>\n",
       "<tr><td>8      </td><td>107168.0     </td><td>0.0           </td><td>48.0         </td><td>0.0           </td><td>4.0          </td><td>15.0         </td><td>16.0         </td><td>3.0          </td><td>1             </td></tr>\n",
       "<tr><td>9      </td><td>107585.0     </td><td>1.0           </td><td>40.0         </td><td>1.0           </td><td>5.0          </td><td>16.0         </td><td>31.0         </td><td>3.0          </td><td>1             </td></tr>\n",
       "</table>"
      ]
     },
     "metadata": {},
     "output_type": "display_data"
    }
   ],
   "source": [
    "print(attrition.shape)\n",
    "attrition.summary()"
   ]
  },
  {
   "cell_type": "markdown",
   "metadata": {},
   "source": [
    "## Data munging in Spark"
   ]
  },
  {
   "cell_type": "code",
   "execution_count": 7,
   "metadata": {
    "collapsed": false
   },
   "outputs": [],
   "source": [
    "spark_df_attrition = hc.as_spark_frame(attrition)"
   ]
  },
  {
   "cell_type": "code",
   "execution_count": 8,
   "metadata": {
    "collapsed": false
   },
   "outputs": [
    {
     "name": "stdout",
     "output_type": "stream",
     "text": [
      "+------+------+---+------+----------+---------+-----+------+-----+\n",
      "|CustID|Gender|Age|Income|FamilySize|Education|Calls|Visits|Churn|\n",
      "+------+------+---+------+----------+---------+-----+------+-----+\n",
      "|101901|     1| 30|     0|         5|       20|   37|     3|    1|\n",
      "|102056|     0| 17|     1|         1|       12|   25|     1|    0|\n",
      "|102522|     1| 54|     1|         4|       18|   48|     3|    1|\n",
      "|103149|     1| 42|     1|         2|       17|   51|     2|    1|\n",
      "|103866|     0| 30|     1|         2|       12|   26|     1|    0|\n",
      "+------+------+---+------+----------+---------+-----+------+-----+\n",
      "only showing top 5 rows\n",
      "\n"
     ]
    }
   ],
   "source": [
    "spark_df_attrition.show(5)"
   ]
  },
  {
   "cell_type": "code",
   "execution_count": 9,
   "metadata": {
    "collapsed": true
   },
   "outputs": [],
   "source": [
    "sqlContext.registerDataFrameAsTable(spark_df_attrition, \"spark_df_attrition\")"
   ]
  },
  {
   "cell_type": "code",
   "execution_count": 10,
   "metadata": {
    "collapsed": true
   },
   "outputs": [],
   "source": [
    "adults = sqlContext.sql(\"SELECT * FROM spark_df_attrition where Age > 18\") # 18+ ;)"
   ]
  },
  {
   "cell_type": "code",
   "execution_count": 11,
   "metadata": {
    "collapsed": false
   },
   "outputs": [
    {
     "name": "stdout",
     "output_type": "stream",
     "text": [
      "+------+------+---+------+----------+---------+-----+------+-----+\n",
      "|CustID|Gender|Age|Income|FamilySize|Education|Calls|Visits|Churn|\n",
      "+------+------+---+------+----------+---------+-----+------+-----+\n",
      "|101901|     1| 30|     0|         5|       20|   37|     3|    1|\n",
      "|102522|     1| 54|     1|         4|       18|   48|     3|    1|\n",
      "|103149|     1| 42|     1|         2|       17|   51|     2|    1|\n",
      "|103866|     0| 30|     1|         2|       12|   26|     1|    0|\n",
      "|103976|     0| 23|     0|         4|       16|   18|     0|    0|\n",
      "+------+------+---+------+----------+---------+-----+------+-----+\n",
      "only showing top 5 rows\n",
      "\n"
     ]
    }
   ],
   "source": [
    "adults.show(5)"
   ]
  },
  {
   "cell_type": "markdown",
   "metadata": {},
   "source": [
    "## Continue in H2O"
   ]
  },
  {
   "cell_type": "code",
   "execution_count": 12,
   "metadata": {
    "collapsed": true
   },
   "outputs": [],
   "source": [
    "adults_hf = hc.as_h2o_frame(adults,framename=\"adults\")"
   ]
  },
  {
   "cell_type": "code",
   "execution_count": 13,
   "metadata": {
    "collapsed": false
   },
   "outputs": [],
   "source": [
    "adults_hf[\"Churn\"]= adults_hf[\"Churn\"].asfactor()"
   ]
  },
  {
   "cell_type": "code",
   "execution_count": 14,
   "metadata": {
    "collapsed": true
   },
   "outputs": [],
   "source": [
    "# Split final H2O data table into train and validatoin\n",
    "ratios = [0.7] # [0.6,0.2] \n",
    "frs = adults_hf.split_frame(ratios,seed=12345)\n",
    "train = frs[0]\n",
    "train.frame_id = \"Train\"\n",
    "valid = frs[1]\n",
    "valid.frame_id = \"Valid\""
   ]
  },
  {
   "cell_type": "code",
   "execution_count": 15,
   "metadata": {
    "collapsed": true
   },
   "outputs": [],
   "source": [
    "# Import Model Builders from H2O Python\n",
    "from h2o.estimators.gbm import H2OGradientBoostingEstimator"
   ]
  },
  {
   "cell_type": "code",
   "execution_count": 16,
   "metadata": {
    "collapsed": true
   },
   "outputs": [],
   "source": [
    "# Define Preditors\n",
    "predictors = adults_hf.names[:]\n",
    "response = \"Churn\"\n",
    "predictors.remove(response)\n",
    "predictors.remove(\"CustID\")"
   ]
  },
  {
   "cell_type": "code",
   "execution_count": 17,
   "metadata": {
    "collapsed": false
   },
   "outputs": [
    {
     "name": "stdout",
     "output_type": "stream",
     "text": [
      "\n",
      "gbm Model Build Progress: [##################################################] 100%\n"
     ]
    }
   ],
   "source": [
    "#Simple GBM model - Predict Arrest\n",
    "model_gbm = H2OGradientBoostingEstimator(ntrees        = 50,\n",
    "                                        max_depth      = 6,\n",
    "                                        learn_rate     = 0.1, \n",
    "                                        #nfolds         = 2,\n",
    "                                        distribution   = \"bernoulli\")\n",
    "\n",
    "model_gbm.train(x               = predictors,\n",
    "               y                = response,\n",
    "               training_frame   = train,\n",
    "               validation_frame = valid\n",
    "               )\n"
   ]
  },
  {
   "cell_type": "code",
   "execution_count": 19,
   "metadata": {
    "collapsed": false
   },
   "outputs": [
    {
     "name": "stdout",
     "output_type": "stream",
     "text": [
      "\n",
      "Confusion Matrix (Act/Pred) for max f1 @ threshold = 0.504441574728: \n"
     ]
    },
    {
     "data": {
      "text/html": [
       "<div style=\"overflow:auto\"><table style=\"width:50%\"><tr><td><b></b></td>\n",
       "<td><b>0</b></td>\n",
       "<td><b>1</b></td>\n",
       "<td><b>Error</b></td>\n",
       "<td><b>Rate</b></td></tr>\n",
       "<tr><td>0</td>\n",
       "<td>45.0</td>\n",
       "<td>0.0</td>\n",
       "<td>0.0</td>\n",
       "<td> (0.0/45.0)</td></tr>\n",
       "<tr><td>1</td>\n",
       "<td>0.0</td>\n",
       "<td>55.0</td>\n",
       "<td>0.0</td>\n",
       "<td> (0.0/55.0)</td></tr>\n",
       "<tr><td>Total</td>\n",
       "<td>45.0</td>\n",
       "<td>55.0</td>\n",
       "<td>0.0</td>\n",
       "<td> (0.0/100.0)</td></tr></table></div>"
      ],
      "text/plain": [
       "       0    1    Error    Rate\n",
       "-----  ---  ---  -------  -----------\n",
       "0      45   0    0        (0.0/45.0)\n",
       "1      0    55   0        (0.0/55.0)\n",
       "Total  45   55   0        (0.0/100.0)"
      ]
     },
     "metadata": {},
     "output_type": "display_data"
    },
    {
     "name": "stdout",
     "output_type": "stream",
     "text": [
      "\n",
      "\n",
      "Confusion Matrix (Act/Pred) for max f1 @ threshold = 0.504463466656: \n"
     ]
    },
    {
     "data": {
      "text/html": [
       "<div style=\"overflow:auto\"><table style=\"width:50%\"><tr><td><b></b></td>\n",
       "<td><b>0</b></td>\n",
       "<td><b>1</b></td>\n",
       "<td><b>Error</b></td>\n",
       "<td><b>Rate</b></td></tr>\n",
       "<tr><td>0</td>\n",
       "<td>18.0</td>\n",
       "<td>6.0</td>\n",
       "<td>0.25</td>\n",
       "<td> (6.0/24.0)</td></tr>\n",
       "<tr><td>1</td>\n",
       "<td>4.0</td>\n",
       "<td>14.0</td>\n",
       "<td>0.2222</td>\n",
       "<td> (4.0/18.0)</td></tr>\n",
       "<tr><td>Total</td>\n",
       "<td>22.0</td>\n",
       "<td>20.0</td>\n",
       "<td>0.2381</td>\n",
       "<td> (10.0/42.0)</td></tr></table></div>"
      ],
      "text/plain": [
       "       0    1    Error    Rate\n",
       "-----  ---  ---  -------  -----------\n",
       "0      18   6    0.25     (6.0/24.0)\n",
       "1      4    14   0.2222   (4.0/18.0)\n",
       "Total  22   20   0.2381   (10.0/42.0)"
      ]
     },
     "metadata": {},
     "output_type": "display_data"
    },
    {
     "name": "stdout",
     "output_type": "stream",
     "text": [
      "\n"
     ]
    }
   ],
   "source": [
    "\n",
    "# Print confusion matrices for the train and validation set\n",
    "print(model_gbm.confusion_matrix(train = True))\n",
    "print(model_gbm.confusion_matrix(valid = True))"
   ]
  },
  {
   "cell_type": "code",
   "execution_count": 20,
   "metadata": {
    "collapsed": false
   },
   "outputs": [
    {
     "name": "stdout",
     "output_type": "stream",
     "text": [
      "1.0\n",
      "0.81712962963\n"
     ]
    },
    {
     "data": {
      "image/png": "[encoded data removed]",
      "text/plain": [
       "<matplotlib.figure.Figure at 0x7ff696e21090>"
      ]
     },
     "metadata": {},
     "output_type": "display_data"
    }
   ],
   "source": [
    "\n",
    "print(model_gbm.auc(train=True))\n",
    "print(model_gbm.auc(valid=True))\n",
    "model_gbm.plot(metric=\"AUC\")"
   ]
  },
  {
   "cell_type": "code",
   "execution_count": 22,
   "metadata": {
    "collapsed": false
   },
   "outputs": [
    {
     "name": "stdout",
     "output_type": "stream",
     "text": [
      "0.0349021544174\n",
      "0.177750518056\n"
     ]
    },
    {
     "data": {
      "image/png": "[encoded data removed]",
      "text/plain": [
       "<matplotlib.figure.Figure at 0x7ff6823d8ed0>"
      ]
     },
     "metadata": {},
     "output_type": "display_data"
    }
   ],
   "source": [
    "print(model_gbm.mse(train=True))\n",
    "print(model_gbm.mse(valid=True))\n",
    "model_gbm.plot(metric=\"MSE\")"
   ]
  },
  {
   "cell_type": "code",
   "execution_count": null,
   "metadata": {
    "collapsed": true
   },
   "outputs": [],
   "source": []
  }
 ],
 "metadata": {
  "kernelspec": {
   "display_name": "Python 2",
   "language": "python",
   "name": "python2"
  },
  "language_info": {
   "codemirror_mode": {
    "name": "ipython",
    "version": 2
   },
   "file_extension": ".py",
   "mimetype": "text/x-python",
   "name": "python",
   "nbconvert_exporter": "python",
   "pygments_lexer": "ipython2",
   "version": "2.7.6"
  }
 },
 "nbformat": 4,
 "nbformat_minor": 0
}
